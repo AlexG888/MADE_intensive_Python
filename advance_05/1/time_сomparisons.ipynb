{
 "cells": [
  {
   "cell_type": "code",
   "execution_count": 20,
   "metadata": {},
   "outputs": [],
   "source": [
    "import random\n",
    "import weakref\n",
    "import names\n",
    "\n",
    "\n",
    "class EmployeeRegular:\n",
    "    def __init__(self, name, experience, roi):\n",
    "        self.name = name\n",
    "        self.experience = experience\n",
    "        self.roi = roi\n",
    "\n",
    "\n",
    "class EmployeeSlots:\n",
    "    __slots__ = (\"name\", \"experience\", \"roi\")\n",
    "\n",
    "    def __init__(self, name, experience, roi):\n",
    "        self.name = name\n",
    "        self.experience = experience\n",
    "        self.roi = roi\n",
    "\n",
    "\n",
    "def gen_data():\n",
    "    while True:\n",
    "        yield names.get_full_name(), random.randint(0, 10), round(\n",
    "            random.uniform(0, 3), 2\n",
    "        )\n",
    "\n",
    "\n",
    "def work_with_data(lst):\n",
    "    for obj in lst:\n",
    "        if isinstance(obj, weakref.ReferenceType):\n",
    "            obj_name = obj().name\n",
    "            obj_experience = obj().experience\n",
    "            obj_roi = obj().roi\n",
    "            obj().name += \"qwerty\"\n",
    "            obj().experience += 1\n",
    "            del obj\n",
    "        else:\n",
    "            obj_name = obj.name\n",
    "            obj_experience = obj.experience\n",
    "            obj_roi = obj.roi\n",
    "            obj.name += \"qwerty\"\n",
    "            obj.experience += 1\n",
    "            del obj\n",
    "\n",
    "N = 10_000"
   ]
  },
  {
   "cell_type": "code",
   "execution_count": 21,
   "metadata": {},
   "outputs": [
    {
     "name": "stdout",
     "output_type": "stream",
     "text": [
      "CPU times: user 36.1 s, sys: 1.6 s, total: 37.7 s\n",
      "Wall time: 39.5 s\n"
     ]
    }
   ],
   "source": [
    "%%time\n",
    "\n",
    "lst_regular = [EmployeeRegular(*next(gen_data())) for _ in range(N)]"
   ]
  },
  {
   "cell_type": "code",
   "execution_count": 22,
   "metadata": {},
   "outputs": [
    {
     "name": "stdout",
     "output_type": "stream",
     "text": [
      "CPU times: user 34.9 s, sys: 1.49 s, total: 36.4 s\n",
      "Wall time: 36.9 s\n"
     ]
    }
   ],
   "source": [
    "%%time\n",
    "\n",
    "lst_slots = [EmployeeSlots(*next(gen_data())) for _ in range(N)]"
   ]
  },
  {
   "cell_type": "code",
   "execution_count": 23,
   "metadata": {},
   "outputs": [
    {
     "name": "stdout",
     "output_type": "stream",
     "text": [
      "CPU times: user 35.7 s, sys: 1.63 s, total: 37.3 s\n",
      "Wall time: 39.8 s\n"
     ]
    }
   ],
   "source": [
    "%%time\n",
    "\n",
    "tmp = [EmployeeRegular(*next(gen_data())) for _ in range(N)]\n",
    "lst_weakref = [weakref.ref(i) for i in tmp]"
   ]
  },
  {
   "cell_type": "markdown",
   "metadata": {},
   "source": [
    "Generating class instances with slots is faster than regular and weakref."
   ]
  },
  {
   "cell_type": "code",
   "execution_count": 24,
   "metadata": {},
   "outputs": [
    {
     "name": "stdout",
     "output_type": "stream",
     "text": [
      "CPU times: user 5.63 ms, sys: 1.13 ms, total: 6.76 ms\n",
      "Wall time: 14.7 ms\n"
     ]
    }
   ],
   "source": [
    "%%time\n",
    "\n",
    "work_with_data(lst_regular)"
   ]
  },
  {
   "cell_type": "code",
   "execution_count": 25,
   "metadata": {},
   "outputs": [
    {
     "name": "stdout",
     "output_type": "stream",
     "text": [
      "CPU times: user 6.22 ms, sys: 610 µs, total: 6.83 ms\n",
      "Wall time: 8.17 ms\n"
     ]
    }
   ],
   "source": [
    "%%time\n",
    "\n",
    "work_with_data(lst_slots)"
   ]
  },
  {
   "cell_type": "code",
   "execution_count": 26,
   "metadata": {},
   "outputs": [
    {
     "name": "stdout",
     "output_type": "stream",
     "text": [
      "CPU times: user 7.61 ms, sys: 1.68 ms, total: 9.28 ms\n",
      "Wall time: 11 ms\n"
     ]
    }
   ],
   "source": [
    "%%time\n",
    "\n",
    "work_with_data(lst_weakref)"
   ]
  },
  {
   "cell_type": "markdown",
   "metadata": {},
   "source": [
    "Access/modify/delete operations with slots also is faster than regular and weakref too."
   ]
  }
 ],
 "metadata": {
  "kernelspec": {
   "display_name": "Python 3.10.8 64-bit",
   "language": "python",
   "name": "python3"
  },
  "language_info": {
   "codemirror_mode": {
    "name": "ipython",
    "version": 3
   },
   "file_extension": ".py",
   "mimetype": "text/x-python",
   "name": "python",
   "nbconvert_exporter": "python",
   "pygments_lexer": "ipython3",
   "version": "3.10.8"
  },
  "orig_nbformat": 4,
  "vscode": {
   "interpreter": {
    "hash": "aee8b7b246df8f9039afb4144a1f6fd8d2ca17a180786b69acc140d282b71a49"
   }
  }
 },
 "nbformat": 4,
 "nbformat_minor": 2
}
